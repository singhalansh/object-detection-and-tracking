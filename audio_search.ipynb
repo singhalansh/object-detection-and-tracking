{
 "cells": [
  {
   "cell_type": "code",
   "execution_count": 5,
   "metadata": {},
   "outputs": [
    {
     "name": "stdout",
     "output_type": "stream",
     "text": [
      "Requirement already satisfied: moviepy in d:\\python3\\lib\\site-packages (1.0.3)\n",
      "Requirement already satisfied: speechrecognition in d:\\python3\\lib\\site-packages (3.11.0)\n",
      "Requirement already satisfied: google-cloud-speech in d:\\python3\\lib\\site-packages (2.27.0)\n",
      "Collecting vosk\n",
      "  Downloading vosk-0.3.45-py3-none-win_amd64.whl.metadata (1.8 kB)\n",
      "Requirement already satisfied: decorator<5.0,>=4.0.2 in d:\\python3\\lib\\site-packages (from moviepy) (4.4.2)\n",
      "Requirement already satisfied: tqdm<5.0,>=4.11.2 in d:\\python3\\lib\\site-packages (from moviepy) (4.66.5)\n",
      "Requirement already satisfied: requests<3.0,>=2.8.1 in d:\\python3\\lib\\site-packages (from moviepy) (2.32.3)\n",
      "Requirement already satisfied: proglog<=1.0.0 in d:\\python3\\lib\\site-packages (from moviepy) (0.1.10)\n",
      "Requirement already satisfied: numpy>=1.17.3 in d:\\python3\\lib\\site-packages (from moviepy) (1.26.3)\n",
      "Requirement already satisfied: imageio<3.0,>=2.5 in d:\\python3\\lib\\site-packages (from moviepy) (2.35.1)\n",
      "Requirement already satisfied: imageio-ffmpeg>=0.2.0 in d:\\python3\\lib\\site-packages (from moviepy) (0.5.1)\n",
      "Requirement already satisfied: typing-extensions in d:\\python3\\lib\\site-packages (from speechrecognition) (4.9.0)\n",
      "Requirement already satisfied: google-api-core!=2.0.*,!=2.1.*,!=2.10.*,!=2.2.*,!=2.3.*,!=2.4.*,!=2.5.*,!=2.6.*,!=2.7.*,!=2.8.*,!=2.9.*,<3.0.0dev,>=1.34.1 in d:\\python3\\lib\\site-packages (from google-api-core[grpc]!=2.0.*,!=2.1.*,!=2.10.*,!=2.2.*,!=2.3.*,!=2.4.*,!=2.5.*,!=2.6.*,!=2.7.*,!=2.8.*,!=2.9.*,<3.0.0dev,>=1.34.1->google-cloud-speech) (2.21.0)\n",
      "Requirement already satisfied: google-auth!=2.24.0,!=2.25.0,<3.0.0dev,>=2.14.1 in d:\\python3\\lib\\site-packages (from google-cloud-speech) (2.35.0)\n",
      "Requirement already satisfied: proto-plus<2.0.0dev,>=1.22.3 in d:\\python3\\lib\\site-packages (from google-cloud-speech) (1.24.0)\n",
      "Requirement already satisfied: protobuf!=4.21.0,!=4.21.1,!=4.21.2,!=4.21.3,!=4.21.4,!=4.21.5,<6.0.0dev,>=3.20.2 in d:\\python3\\lib\\site-packages (from google-cloud-speech) (5.28.2)\n",
      "Requirement already satisfied: cffi>=1.0 in d:\\python3\\lib\\site-packages (from vosk) (1.17.1)\n",
      "Collecting srt (from vosk)\n",
      "  Downloading srt-3.5.3.tar.gz (28 kB)\n",
      "  Preparing metadata (setup.py): started\n",
      "  Preparing metadata (setup.py): finished with status 'done'\n",
      "Collecting websockets (from vosk)\n",
      "  Downloading websockets-13.1-cp312-cp312-win_amd64.whl.metadata (7.0 kB)\n",
      "Requirement already satisfied: pycparser in d:\\python3\\lib\\site-packages (from cffi>=1.0->vosk) (2.22)\n",
      "Requirement already satisfied: googleapis-common-protos<2.0.dev0,>=1.56.2 in d:\\python3\\lib\\site-packages (from google-api-core!=2.0.*,!=2.1.*,!=2.10.*,!=2.2.*,!=2.3.*,!=2.4.*,!=2.5.*,!=2.6.*,!=2.7.*,!=2.8.*,!=2.9.*,<3.0.0dev,>=1.34.1->google-api-core[grpc]!=2.0.*,!=2.1.*,!=2.10.*,!=2.2.*,!=2.3.*,!=2.4.*,!=2.5.*,!=2.6.*,!=2.7.*,!=2.8.*,!=2.9.*,<3.0.0dev,>=1.34.1->google-cloud-speech) (1.65.0)\n",
      "Requirement already satisfied: grpcio<2.0dev,>=1.33.2 in d:\\python3\\lib\\site-packages (from google-api-core[grpc]!=2.0.*,!=2.1.*,!=2.10.*,!=2.2.*,!=2.3.*,!=2.4.*,!=2.5.*,!=2.6.*,!=2.7.*,!=2.8.*,!=2.9.*,<3.0.0dev,>=1.34.1->google-cloud-speech) (1.67.0)\n",
      "Requirement already satisfied: grpcio-status<2.0.dev0,>=1.33.2 in d:\\python3\\lib\\site-packages (from google-api-core[grpc]!=2.0.*,!=2.1.*,!=2.10.*,!=2.2.*,!=2.3.*,!=2.4.*,!=2.5.*,!=2.6.*,!=2.7.*,!=2.8.*,!=2.9.*,<3.0.0dev,>=1.34.1->google-cloud-speech) (1.67.0)\n",
      "Requirement already satisfied: cachetools<6.0,>=2.0.0 in d:\\python3\\lib\\site-packages (from google-auth!=2.24.0,!=2.25.0,<3.0.0dev,>=2.14.1->google-cloud-speech) (5.5.0)\n",
      "Requirement already satisfied: pyasn1-modules>=0.2.1 in d:\\python3\\lib\\site-packages (from google-auth!=2.24.0,!=2.25.0,<3.0.0dev,>=2.14.1->google-cloud-speech) (0.4.1)\n",
      "Requirement already satisfied: rsa<5,>=3.1.4 in d:\\python3\\lib\\site-packages (from google-auth!=2.24.0,!=2.25.0,<3.0.0dev,>=2.14.1->google-cloud-speech) (4.9)\n",
      "Requirement already satisfied: pillow>=8.3.2 in d:\\python3\\lib\\site-packages (from imageio<3.0,>=2.5->moviepy) (11.0.0)\n",
      "Requirement already satisfied: setuptools in d:\\python3\\lib\\site-packages (from imageio-ffmpeg>=0.2.0->moviepy) (75.2.0)\n",
      "Requirement already satisfied: charset-normalizer<4,>=2 in d:\\python3\\lib\\site-packages (from requests<3.0,>=2.8.1->moviepy) (3.3.2)\n",
      "Requirement already satisfied: idna<4,>=2.5 in d:\\python3\\lib\\site-packages (from requests<3.0,>=2.8.1->moviepy) (3.10)\n",
      "Requirement already satisfied: urllib3<3,>=1.21.1 in d:\\python3\\lib\\site-packages (from requests<3.0,>=2.8.1->moviepy) (2.2.3)\n",
      "Requirement already satisfied: certifi>=2017.4.17 in d:\\python3\\lib\\site-packages (from requests<3.0,>=2.8.1->moviepy) (2024.8.30)\n",
      "Requirement already satisfied: colorama in c:\\users\\singh\\appdata\\roaming\\python\\python312\\site-packages (from tqdm<5.0,>=4.11.2->moviepy) (0.4.6)\n",
      "Requirement already satisfied: pyasn1<0.7.0,>=0.4.6 in d:\\python3\\lib\\site-packages (from pyasn1-modules>=0.2.1->google-auth!=2.24.0,!=2.25.0,<3.0.0dev,>=2.14.1->google-cloud-speech) (0.6.1)\n",
      "Downloading vosk-0.3.45-py3-none-win_amd64.whl (14.0 MB)\n",
      "   ---------------------------------------- 0.0/14.0 MB ? eta -:--:--\n",
      "   ---------- ----------------------------- 3.7/14.0 MB 27.3 MB/s eta 0:00:01\n",
      "   ---------- ----------------------------- 3.7/14.0 MB 27.3 MB/s eta 0:00:01\n",
      "   ---------- ----------------------------- 3.7/14.0 MB 27.3 MB/s eta 0:00:01\n",
      "   ---------- ----------------------------- 3.7/14.0 MB 27.3 MB/s eta 0:00:01\n",
      "   ----------------- ---------------------- 6.3/14.0 MB 6.1 MB/s eta 0:00:02\n",
      "   ------------------------- -------------- 8.9/14.0 MB 7.6 MB/s eta 0:00:01\n",
      "   ------------------------- -------------- 8.9/14.0 MB 7.6 MB/s eta 0:00:01\n",
      "   ------------------------- -------------- 8.9/14.0 MB 7.6 MB/s eta 0:00:01\n",
      "   ------------------------- -------------- 8.9/14.0 MB 7.6 MB/s eta 0:00:01\n",
      "   ----------------------------------- ---- 12.3/14.0 MB 6.1 MB/s eta 0:00:01\n",
      "   ---------------------------------------- 14.0/14.0 MB 6.6 MB/s eta 0:00:00\n",
      "Downloading websockets-13.1-cp312-cp312-win_amd64.whl (159 kB)\n",
      "Building wheels for collected packages: srt\n",
      "  Building wheel for srt (setup.py): started\n",
      "  Building wheel for srt (setup.py): finished with status 'done'\n",
      "  Created wheel for srt: filename=srt-3.5.3-py3-none-any.whl size=22557 sha256=d82680321be9fccea5aa611864475405430e488e6a2f7abd68144e37b6d9dead\n",
      "  Stored in directory: c:\\users\\singh\\appdata\\local\\pip\\cache\\wheels\\7e\\75\\5b\\e1d5c3756631e4bda806f6cc9640153b39484bb6f7b0b8def3\n",
      "Successfully built srt\n",
      "Installing collected packages: websockets, srt, vosk\n",
      "Successfully installed srt-3.5.3 vosk-0.3.45 websockets-13.1\n"
     ]
    }
   ],
   "source": [
    "!pip install moviepy speechrecognition google-cloud-speech vosk"
   ]
  },
  {
   "cell_type": "code",
   "execution_count": 7,
   "metadata": {},
   "outputs": [
    {
     "name": "stdout",
     "output_type": "stream",
     "text": [
      "MoviePy - Writing audio in extracted_audio.wav\n"
     ]
    },
    {
     "name": "stderr",
     "output_type": "stream",
     "text": [
      "                                                                      \r"
     ]
    },
    {
     "name": "stdout",
     "output_type": "stream",
     "text": [
      "MoviePy - Done.\n",
      "Audio file must be WAV format mono PCM.\n",
      "\n",
      "Full transcription:\n",
      " None\n"
     ]
    }
   ],
   "source": [
    "import os\n",
    "import moviepy.editor as mp\n",
    "from vosk import Model, KaldiRecognizer\n",
    "import wave\n",
    "import json\n",
    "\n",
    "# Function to extract audio from video and save as a WAV file\n",
    "def extract_audio_from_video(video_path, audio_output_path):\n",
    "    video = mp.VideoFileClip(video_path)\n",
    "    video.audio.write_audiofile(audio_output_path)\n",
    "\n",
    "# Function to transcribe audio using Vosk\n",
    "def transcribe_audio(audio_path, search_word):\n",
    "    # Load Vosk model (make sure the model is downloaded from Vosk's official page)\n",
    "    if not os.path.exists(\"vosk-model-small-en-us-0.15\"):\n",
    "        print(\"Please download the model from https://alphacephei.com/vosk/models and unpack it to 'vosk-model-small-en-us-0.15' directory.\")\n",
    "        return\n",
    "\n",
    "    model = Model(\"vosk-model-small-en-us-0.15\")\n",
    "    \n",
    "    # Open the audio file\n",
    "    wf = wave.open(audio_path, \"rb\")\n",
    "    \n",
    "    # Ensure the audio is mono-channel and with a proper sample rate\n",
    "    if wf.getnchannels() != 1 or wf.getsampwidth() != 2 or wf.getframerate() != 16000:\n",
    "        print(\"Audio file must be WAV format mono PCM.\")\n",
    "        return\n",
    "    \n",
    "    recognizer = KaldiRecognizer(model, wf.getframerate())\n",
    "    recognizer.SetWords(True)  # Enable word timestamps\n",
    "\n",
    "    transcription = \"\"\n",
    "    word_found = False\n",
    "    search_word = search_word.lower()\n",
    "\n",
    "    # Process the audio file in chunks\n",
    "    while True:\n",
    "        data = wf.readframes(4000)\n",
    "        if len(data) == 0:\n",
    "            break\n",
    "\n",
    "        if recognizer.AcceptWaveform(data):\n",
    "            result = json.loads(recognizer.Result())\n",
    "            transcription += result.get(\"text\", \"\")\n",
    "            # Check if the word is found in the result\n",
    "            for word in result.get(\"result\", []):\n",
    "                if search_word in word[\"word\"].lower():\n",
    "                    word_found = True\n",
    "                    print(f\"Found '{search_word}' at timestamp {word['start']}s - {word['end']}s\")\n",
    "\n",
    "    # Final partial results\n",
    "    final_result = json.loads(recognizer.FinalResult())\n",
    "    transcription += final_result.get(\"text\", \"\")\n",
    "    \n",
    "    # Search the final transcript if not already found\n",
    "    if not word_found and search_word in transcription.lower():\n",
    "        print(f\"'{search_word}' found in the audio.\")\n",
    "\n",
    "    wf.close()\n",
    "\n",
    "    return transcription\n",
    "\n",
    "# Main workflow\n",
    "video_path = \"test_video.mp4\"\n",
    "audio_output_path = \"extracted_audio.wav\"\n",
    "search_word = \"example\"\n",
    "\n",
    "# Step 1: Extract audio from the video\n",
    "extract_audio_from_video(video_path, audio_output_path)\n",
    "\n",
    "# Step 2: Transcribe and search for the word in the audio\n",
    "transcription = transcribe_audio(audio_output_path, search_word)\n",
    "\n",
    "# Print the full transcription if needed\n",
    "print(\"\\nFull transcription:\\n\", transcription)\n"
   ]
  },
  {
   "cell_type": "code",
   "execution_count": null,
   "metadata": {},
   "outputs": [],
   "source": []
  }
 ],
 "metadata": {
  "kernelspec": {
   "display_name": "Python 3",
   "language": "python",
   "name": "python3"
  },
  "language_info": {
   "codemirror_mode": {
    "name": "ipython",
    "version": 3
   },
   "file_extension": ".py",
   "mimetype": "text/x-python",
   "name": "python",
   "nbconvert_exporter": "python",
   "pygments_lexer": "ipython3",
   "version": "3.12.0"
  }
 },
 "nbformat": 4,
 "nbformat_minor": 2
}
